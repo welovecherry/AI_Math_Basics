{
  "nbformat": 4,
  "nbformat_minor": 0,
  "metadata": {
    "colab": {
      "provenance": [],
      "authorship_tag": "ABX9TyNIuSCY1r40RdFkcHVgaBiU",
      "include_colab_link": true
    },
    "kernelspec": {
      "name": "python3",
      "display_name": "Python 3"
    },
    "language_info": {
      "name": "python"
    }
  },
  "cells": [
    {
      "cell_type": "markdown",
      "metadata": {
        "id": "view-in-github",
        "colab_type": "text"
      },
      "source": [
        "<a href=\"https://colab.research.google.com/github/welovecherry/AI_Math_Basics/blob/main/chapter4.ipynb\" target=\"_parent\"><img src=\"https://colab.research.google.com/assets/colab-badge.svg\" alt=\"Open In Colab\"/></a>"
      ]
    },
    {
      "cell_type": "markdown",
      "source": [
        "import numpy as np\n",
        "x = np.array([2, 4, 6, 8])\n",
        "y = np.array([81, 93, 91, 97])\n",
        "\n",
        "mx = np.mean(x)\n",
        "my = np.mean(y)\n",
        "\n",
        "print(\"mean of x: \", mx)\n",
        "print(\"mean of y: \", my)\n",
        "\n",
        "divisor = sum([(i - mx)**2 for i in x]) # list comprehension\n",
        "\n",
        "def top(x, mx, y, my):\n",
        "  d = 0\n",
        "  for i in range(len(x)):\n",
        "    d += (x[i] - mx) * (y[i] - my)\n",
        "  return d\n",
        "\n",
        "dividend = top(x, mx, y, my)\n",
        "\n",
        "print(\"divisor: \", divisor)\n",
        "print(\"divided: \", dividend)\n",
        "\n",
        "a = dividend / divisor\n",
        "b = my - (mx * a)\n",
        "\n",
        "print(\"a: \", a)\n",
        "print(\"b: \", b)\n"
      ],
      "metadata": {
        "id": "pYopjQKmYgpL"
      }
    },
    {
      "cell_type": "markdown",
      "source": [
        "import numpy as np\n",
        "\n",
        "fake_a = 3\n",
        "fake_b = 76\n",
        "\n",
        "x = np.array([2, 4, 6, 8])\n",
        "y = np.array([81, 93, 91, 97])\n",
        "\n",
        "def predict(x):\n",
        "  return fake_a * x + fake_b\n",
        "\n",
        "predict_res = []\n",
        "\n",
        "for i in range(len(x)):\n",
        "  predict_res.append(predict(x[i]))\n",
        "  print(\"공부한 시간=%.f, 실제 점수=%.f, 예측 점수=%.f\" % (x[i], y[i], predict(x[i])))\n",
        "\n",
        "# print(\"%.f\" % 12.345)\n",
        "# print(\"%.f\" % 3.1415)\n",
        "\n",
        "n = len(x)\n",
        "\n",
        "def mes(y, y_pred):\n",
        "  return (1 / n) * sum((y - y_pred) ** 2)\n",
        "\n",
        "print(\"res:\", (mes(y, predict_res)))"
      ],
      "metadata": {
        "id": "wG-OBGlPn7MT"
      }
    },
    {
      "cell_type": "code",
      "source": [],
      "metadata": {
        "id": "13qb0NoGlmC4"
      },
      "execution_count": null,
      "outputs": []
    },
    {
      "cell_type": "markdown",
      "source": [
        "import numpy as np\n",
        "\n",
        "# x = np.array([1, 2, 3, 4])\n",
        "# y = np.array([5, 6, 7, 8])\n",
        "\n",
        "x = [2, 4, 6, 8, 10]\n",
        "# print(sum(x))\n",
        "# print(len(x))\n",
        "mean = sum(x) / len(x)\n",
        "# print(mean)\n",
        "\n",
        "# dif = []\n",
        "# for i in x:\n",
        "#   # print(mean - i)\n",
        "#   dif.append(mean-i)\n",
        "\n",
        "dif = [mean - i for i in x]\n",
        "\n",
        "for i in dif:\n",
        "  print(i)\n"
      ],
      "metadata": {
        "id": "sefdatB6qTgt"
      }
    },
    {
      "cell_type": "code",
      "source": [
        "x = [1, 2, 3, 4]\n",
        "y = [5, 6, 7, 8]\n",
        "\n",
        "def get_mean(group):\n",
        "    return sum(group) / len(group)\n",
        "\n",
        "def get_diff(group):\n",
        "    mean = get_mean(group)\n",
        "    diff = [(i - mean) for i in group]\n",
        "    return diff\n",
        "\n",
        "x_diff = get_diff(x)\n",
        "y_diff = get_diff(y)\n",
        "\n",
        "result_sum = 0.0  # 변수 이름을 result_sum으로 변경\n",
        "for i in range(len(x)):\n",
        "    result_sum += x_diff[i] * y_diff[i]\n",
        "\n",
        "print(result_sum)"
      ],
      "metadata": {
        "colab": {
          "base_uri": "https://localhost:8080/"
        },
        "id": "9p_Zmiexwuiw",
        "outputId": "d7e1cb6e-67d4-4eb6-9acc-4ef12d086a93"
      },
      "execution_count": null,
      "outputs": [
        {
          "output_type": "stream",
          "name": "stdout",
          "text": [
            "5.0\n"
          ]
        }
      ]
    },
    {
      "cell_type": "code",
      "source": [
        "from sympy import symbols\n",
        "\n",
        "def average(a, b):\n",
        "  m = max(a,b)\n",
        "  n = min(a,b)\n",
        "  x = symbols('x')\n",
        "\n",
        "  fx = 2 * x ** 2 + 4 * x + 7\n",
        "  fb = fx.subs(x, m)\n",
        "  fa = fx.subs(x, n)\n",
        "\n",
        "  result = (fb - fa) / (b - a)\n",
        "  return result\n",
        "\n",
        "print(average(0,2))\n",
        "\n"
      ],
      "metadata": {
        "colab": {
          "base_uri": "https://localhost:8080/"
        },
        "id": "BfHAXx2llpWt",
        "outputId": "32a7928e-c2a1-4f9e-d265-94090a39de9e"
      },
      "execution_count": null,
      "outputs": [
        {
          "output_type": "stream",
          "name": "stdout",
          "text": [
            "8\n"
          ]
        }
      ]
    },
    {
      "cell_type": "code",
      "source": [
        "from sympy import symbols\n",
        "\n",
        "x = symbols('x')\n",
        "expr = x + 5\n",
        "\n",
        "result = expr.subs(x, 2)\n",
        "print(result)"
      ],
      "metadata": {
        "colab": {
          "base_uri": "https://localhost:8080/"
        },
        "id": "JlNKHtJGgeeI",
        "outputId": "f4c61621-fbdf-43d1-e3e4-9bba7f027da3"
      },
      "execution_count": null,
      "outputs": [
        {
          "output_type": "stream",
          "name": "stdout",
          "text": [
            "7\n"
          ]
        }
      ]
    },
    {
      "cell_type": "code",
      "source": [
        "from sympy import symbols\n",
        "\n",
        "x, y = symbols('x y')\n",
        "expr = x * y + 3\n",
        "\n",
        "result = expr.subs({x: 2, y: 4})\n",
        "print(result)"
      ],
      "metadata": {
        "colab": {
          "base_uri": "https://localhost:8080/"
        },
        "id": "lUA6Pf-_hfhN",
        "outputId": "13f9bda8-5bf5-45ea-8834-7cb6dcb1b41a"
      },
      "execution_count": null,
      "outputs": [
        {
          "output_type": "stream",
          "name": "stdout",
          "text": [
            "11\n"
          ]
        }
      ]
    },
    {
      "cell_type": "code",
      "source": [
        "\n",
        "# Install git if not already installed\n",
        "!pip install git\n"
      ],
      "metadata": {
        "id": "svZneiqhhwf1",
        "colab": {
          "base_uri": "https://localhost:8080/"
        },
        "outputId": "652e6690-abba-4051-b48e-1bc9afb99849"
      },
      "execution_count": null,
      "outputs": [
        {
          "output_type": "stream",
          "name": "stdout",
          "text": [
            "Cloning into 'colab'...\n",
            "fatal: could not read Username for 'https://github.com': No such device or address\n"
          ]
        }
      ]
    }
  ]
}